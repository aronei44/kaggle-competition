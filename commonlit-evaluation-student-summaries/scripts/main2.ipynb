{
 "cells": [
  {
   "cell_type": "code",
   "execution_count": 40,
   "metadata": {},
   "outputs": [],
   "source": [
    "import pandas as pd\n",
    "import numpy as np"
   ]
  },
  {
   "cell_type": "code",
   "execution_count": 41,
   "metadata": {},
   "outputs": [],
   "source": [
    "# import nltk\n",
    "# nltk.download('punkt')\n",
    "# nltk.download('stopwords')\n",
    "# run only if not have that"
   ]
  },
  {
   "cell_type": "code",
   "execution_count": 42,
   "metadata": {},
   "outputs": [],
   "source": [
    "from sklearn.feature_extraction.text import CountVectorizer\n",
    "from nltk.tokenize import word_tokenize\n",
    "from nltk.corpus import stopwords\n",
    "from string import punctuation\n",
    "sw = stopwords.words('english') + list(punctuation)"
   ]
  },
  {
   "cell_type": "code",
   "execution_count": 43,
   "metadata": {},
   "outputs": [],
   "source": [
    "from sklearn.metrics.pairwise import cosine_similarity\n",
    "from sklearn.model_selection import train_test_split, RandomizedSearchCV\n",
    "from sklearn.pipeline import Pipeline\n",
    "from sklearn.preprocessing import RobustScaler\n",
    "from sklearn.compose import ColumnTransformer\n",
    "from sklearn.multioutput import MultiOutputRegressor\n",
    "from sklearn.ensemble import GradientBoostingRegressor"
   ]
  },
  {
   "cell_type": "code",
   "execution_count": 44,
   "metadata": {},
   "outputs": [],
   "source": [
    "cv = CountVectorizer(tokenizer=word_tokenize, ngram_range=(1,3))"
   ]
  },
  {
   "cell_type": "code",
   "execution_count": 45,
   "metadata": {},
   "outputs": [],
   "source": [
    "df_summaries = pd.read_csv(\"../data/summaries_train.csv\", index_col=\"prompt_id\")\n",
    "df_prompt = pd.read_csv(\"../data/prompts_train.csv\", index_col=\"prompt_id\")"
   ]
  },
  {
   "cell_type": "code",
   "execution_count": 46,
   "metadata": {},
   "outputs": [
    {
     "data": {
      "text/html": [
       "<div>\n",
       "<style scoped>\n",
       "    .dataframe tbody tr th:only-of-type {\n",
       "        vertical-align: middle;\n",
       "    }\n",
       "\n",
       "    .dataframe tbody tr th {\n",
       "        vertical-align: top;\n",
       "    }\n",
       "\n",
       "    .dataframe thead th {\n",
       "        text-align: right;\n",
       "    }\n",
       "</style>\n",
       "<table border=\"1\" class=\"dataframe\">\n",
       "  <thead>\n",
       "    <tr style=\"text-align: right;\">\n",
       "      <th></th>\n",
       "      <th>prompt_question</th>\n",
       "      <th>prompt_title</th>\n",
       "      <th>prompt_text</th>\n",
       "    </tr>\n",
       "    <tr>\n",
       "      <th>prompt_id</th>\n",
       "      <th></th>\n",
       "      <th></th>\n",
       "      <th></th>\n",
       "    </tr>\n",
       "  </thead>\n",
       "  <tbody>\n",
       "    <tr>\n",
       "      <th>39c16e</th>\n",
       "      <td>Summarize at least 3 elements of an ideal trag...</td>\n",
       "      <td>On Tragedy</td>\n",
       "      <td>Chapter 13 \\r\\nAs the sequel to what has alrea...</td>\n",
       "    </tr>\n",
       "    <tr>\n",
       "      <th>3b9047</th>\n",
       "      <td>In complete sentences, summarize the structure...</td>\n",
       "      <td>Egyptian Social Structure</td>\n",
       "      <td>Egyptian society was structured like a pyramid...</td>\n",
       "    </tr>\n",
       "    <tr>\n",
       "      <th>814d6b</th>\n",
       "      <td>Summarize how the Third Wave developed over su...</td>\n",
       "      <td>The Third Wave</td>\n",
       "      <td>Background \\r\\nThe Third Wave experiment took ...</td>\n",
       "    </tr>\n",
       "    <tr>\n",
       "      <th>ebad26</th>\n",
       "      <td>Summarize the various ways the factory would u...</td>\n",
       "      <td>Excerpt from The Jungle</td>\n",
       "      <td>With one member trimming beef in a cannery, an...</td>\n",
       "    </tr>\n",
       "  </tbody>\n",
       "</table>\n",
       "</div>"
      ],
      "text/plain": [
       "                                             prompt_question  \\\n",
       "prompt_id                                                      \n",
       "39c16e     Summarize at least 3 elements of an ideal trag...   \n",
       "3b9047     In complete sentences, summarize the structure...   \n",
       "814d6b     Summarize how the Third Wave developed over su...   \n",
       "ebad26     Summarize the various ways the factory would u...   \n",
       "\n",
       "                        prompt_title  \\\n",
       "prompt_id                              \n",
       "39c16e                    On Tragedy   \n",
       "3b9047     Egyptian Social Structure   \n",
       "814d6b                The Third Wave   \n",
       "ebad26       Excerpt from The Jungle   \n",
       "\n",
       "                                                 prompt_text  \n",
       "prompt_id                                                     \n",
       "39c16e     Chapter 13 \\r\\nAs the sequel to what has alrea...  \n",
       "3b9047     Egyptian society was structured like a pyramid...  \n",
       "814d6b     Background \\r\\nThe Third Wave experiment took ...  \n",
       "ebad26     With one member trimming beef in a cannery, an...  "
      ]
     },
     "execution_count": 46,
     "metadata": {},
     "output_type": "execute_result"
    }
   ],
   "source": [
    "df_prompt.head()"
   ]
  },
  {
   "cell_type": "code",
   "execution_count": 47,
   "metadata": {},
   "outputs": [
    {
     "data": {
      "text/html": [
       "<div>\n",
       "<style scoped>\n",
       "    .dataframe tbody tr th:only-of-type {\n",
       "        vertical-align: middle;\n",
       "    }\n",
       "\n",
       "    .dataframe tbody tr th {\n",
       "        vertical-align: top;\n",
       "    }\n",
       "\n",
       "    .dataframe thead th {\n",
       "        text-align: right;\n",
       "    }\n",
       "</style>\n",
       "<table border=\"1\" class=\"dataframe\">\n",
       "  <thead>\n",
       "    <tr style=\"text-align: right;\">\n",
       "      <th></th>\n",
       "      <th>student_id</th>\n",
       "      <th>text</th>\n",
       "      <th>content</th>\n",
       "      <th>wording</th>\n",
       "    </tr>\n",
       "    <tr>\n",
       "      <th>prompt_id</th>\n",
       "      <th></th>\n",
       "      <th></th>\n",
       "      <th></th>\n",
       "      <th></th>\n",
       "    </tr>\n",
       "  </thead>\n",
       "  <tbody>\n",
       "    <tr>\n",
       "      <th>814d6b</th>\n",
       "      <td>000e8c3c7ddb</td>\n",
       "      <td>The third wave was an experimentto see how peo...</td>\n",
       "      <td>0.205683</td>\n",
       "      <td>0.380538</td>\n",
       "    </tr>\n",
       "    <tr>\n",
       "      <th>ebad26</th>\n",
       "      <td>0020ae56ffbf</td>\n",
       "      <td>They would rub it up with soda to make the sme...</td>\n",
       "      <td>-0.548304</td>\n",
       "      <td>0.506755</td>\n",
       "    </tr>\n",
       "    <tr>\n",
       "      <th>3b9047</th>\n",
       "      <td>004e978e639e</td>\n",
       "      <td>In Egypt, there were many occupations and soci...</td>\n",
       "      <td>3.128928</td>\n",
       "      <td>4.231226</td>\n",
       "    </tr>\n",
       "    <tr>\n",
       "      <th>3b9047</th>\n",
       "      <td>005ab0199905</td>\n",
       "      <td>The highest class was Pharaohs these people we...</td>\n",
       "      <td>-0.210614</td>\n",
       "      <td>-0.471415</td>\n",
       "    </tr>\n",
       "    <tr>\n",
       "      <th>814d6b</th>\n",
       "      <td>0070c9e7af47</td>\n",
       "      <td>The Third Wave developed  rapidly because the ...</td>\n",
       "      <td>3.272894</td>\n",
       "      <td>3.219757</td>\n",
       "    </tr>\n",
       "  </tbody>\n",
       "</table>\n",
       "</div>"
      ],
      "text/plain": [
       "             student_id                                               text  \\\n",
       "prompt_id                                                                    \n",
       "814d6b     000e8c3c7ddb  The third wave was an experimentto see how peo...   \n",
       "ebad26     0020ae56ffbf  They would rub it up with soda to make the sme...   \n",
       "3b9047     004e978e639e  In Egypt, there were many occupations and soci...   \n",
       "3b9047     005ab0199905  The highest class was Pharaohs these people we...   \n",
       "814d6b     0070c9e7af47  The Third Wave developed  rapidly because the ...   \n",
       "\n",
       "            content   wording  \n",
       "prompt_id                      \n",
       "814d6b     0.205683  0.380538  \n",
       "ebad26    -0.548304  0.506755  \n",
       "3b9047     3.128928  4.231226  \n",
       "3b9047    -0.210614 -0.471415  \n",
       "814d6b     3.272894  3.219757  "
      ]
     },
     "execution_count": 47,
     "metadata": {},
     "output_type": "execute_result"
    }
   ],
   "source": [
    "df_summaries.head()"
   ]
  },
  {
   "cell_type": "code",
   "execution_count": 48,
   "metadata": {},
   "outputs": [
    {
     "data": {
      "text/html": [
       "<div>\n",
       "<style scoped>\n",
       "    .dataframe tbody tr th:only-of-type {\n",
       "        vertical-align: middle;\n",
       "    }\n",
       "\n",
       "    .dataframe tbody tr th {\n",
       "        vertical-align: top;\n",
       "    }\n",
       "\n",
       "    .dataframe thead th {\n",
       "        text-align: right;\n",
       "    }\n",
       "</style>\n",
       "<table border=\"1\" class=\"dataframe\">\n",
       "  <thead>\n",
       "    <tr style=\"text-align: right;\">\n",
       "      <th></th>\n",
       "      <th>student_id</th>\n",
       "      <th>text</th>\n",
       "      <th>content</th>\n",
       "      <th>wording</th>\n",
       "      <th>prompt_question</th>\n",
       "      <th>prompt_title</th>\n",
       "      <th>prompt_text</th>\n",
       "    </tr>\n",
       "    <tr>\n",
       "      <th>prompt_id</th>\n",
       "      <th></th>\n",
       "      <th></th>\n",
       "      <th></th>\n",
       "      <th></th>\n",
       "      <th></th>\n",
       "      <th></th>\n",
       "      <th></th>\n",
       "    </tr>\n",
       "  </thead>\n",
       "  <tbody>\n",
       "    <tr>\n",
       "      <th>39c16e</th>\n",
       "      <td>00791789cc1f</td>\n",
       "      <td>1 element of an ideal tragedy is that it shoul...</td>\n",
       "      <td>-0.210614</td>\n",
       "      <td>-0.471415</td>\n",
       "      <td>Summarize at least 3 elements of an ideal trag...</td>\n",
       "      <td>On Tragedy</td>\n",
       "      <td>Chapter 13 \\r\\nAs the sequel to what has alrea...</td>\n",
       "    </tr>\n",
       "    <tr>\n",
       "      <th>39c16e</th>\n",
       "      <td>0086ef22de8f</td>\n",
       "      <td>The three elements of an ideal tragedy are:  H...</td>\n",
       "      <td>-0.970237</td>\n",
       "      <td>-0.417058</td>\n",
       "      <td>Summarize at least 3 elements of an ideal trag...</td>\n",
       "      <td>On Tragedy</td>\n",
       "      <td>Chapter 13 \\r\\nAs the sequel to what has alrea...</td>\n",
       "    </tr>\n",
       "    <tr>\n",
       "      <th>39c16e</th>\n",
       "      <td>0094589c7a22</td>\n",
       "      <td>Aristotle states that an ideal tragedy should ...</td>\n",
       "      <td>-0.387791</td>\n",
       "      <td>-0.584181</td>\n",
       "      <td>Summarize at least 3 elements of an ideal trag...</td>\n",
       "      <td>On Tragedy</td>\n",
       "      <td>Chapter 13 \\r\\nAs the sequel to what has alrea...</td>\n",
       "    </tr>\n",
       "    <tr>\n",
       "      <th>39c16e</th>\n",
       "      <td>00cd5736026a</td>\n",
       "      <td>One element of an Ideal tragedy is having a co...</td>\n",
       "      <td>0.088882</td>\n",
       "      <td>-0.594710</td>\n",
       "      <td>Summarize at least 3 elements of an ideal trag...</td>\n",
       "      <td>On Tragedy</td>\n",
       "      <td>Chapter 13 \\r\\nAs the sequel to what has alrea...</td>\n",
       "    </tr>\n",
       "    <tr>\n",
       "      <th>39c16e</th>\n",
       "      <td>00d98b8ff756</td>\n",
       "      <td>The 3 ideal of tragedy is how complex you need...</td>\n",
       "      <td>-0.687288</td>\n",
       "      <td>-0.460886</td>\n",
       "      <td>Summarize at least 3 elements of an ideal trag...</td>\n",
       "      <td>On Tragedy</td>\n",
       "      <td>Chapter 13 \\r\\nAs the sequel to what has alrea...</td>\n",
       "    </tr>\n",
       "  </tbody>\n",
       "</table>\n",
       "</div>"
      ],
      "text/plain": [
       "             student_id                                               text  \\\n",
       "prompt_id                                                                    \n",
       "39c16e     00791789cc1f  1 element of an ideal tragedy is that it shoul...   \n",
       "39c16e     0086ef22de8f  The three elements of an ideal tragedy are:  H...   \n",
       "39c16e     0094589c7a22  Aristotle states that an ideal tragedy should ...   \n",
       "39c16e     00cd5736026a  One element of an Ideal tragedy is having a co...   \n",
       "39c16e     00d98b8ff756  The 3 ideal of tragedy is how complex you need...   \n",
       "\n",
       "            content   wording  \\\n",
       "prompt_id                       \n",
       "39c16e    -0.210614 -0.471415   \n",
       "39c16e    -0.970237 -0.417058   \n",
       "39c16e    -0.387791 -0.584181   \n",
       "39c16e     0.088882 -0.594710   \n",
       "39c16e    -0.687288 -0.460886   \n",
       "\n",
       "                                             prompt_question prompt_title  \\\n",
       "prompt_id                                                                   \n",
       "39c16e     Summarize at least 3 elements of an ideal trag...   On Tragedy   \n",
       "39c16e     Summarize at least 3 elements of an ideal trag...   On Tragedy   \n",
       "39c16e     Summarize at least 3 elements of an ideal trag...   On Tragedy   \n",
       "39c16e     Summarize at least 3 elements of an ideal trag...   On Tragedy   \n",
       "39c16e     Summarize at least 3 elements of an ideal trag...   On Tragedy   \n",
       "\n",
       "                                                 prompt_text  \n",
       "prompt_id                                                     \n",
       "39c16e     Chapter 13 \\r\\nAs the sequel to what has alrea...  \n",
       "39c16e     Chapter 13 \\r\\nAs the sequel to what has alrea...  \n",
       "39c16e     Chapter 13 \\r\\nAs the sequel to what has alrea...  \n",
       "39c16e     Chapter 13 \\r\\nAs the sequel to what has alrea...  \n",
       "39c16e     Chapter 13 \\r\\nAs the sequel to what has alrea...  "
      ]
     },
     "execution_count": 48,
     "metadata": {},
     "output_type": "execute_result"
    }
   ],
   "source": [
    "combine_df = df_summaries.join(df_prompt, how=\"outer\",lsuffix=\"prompt_id\")\n",
    "combine_df.head()"
   ]
  },
  {
   "cell_type": "code",
   "execution_count": 49,
   "metadata": {},
   "outputs": [],
   "source": [
    "def transformText(texts):\n",
    "   lowered = [text.lower() for text in texts]\n",
    "   return lowered"
   ]
  },
  {
   "cell_type": "code",
   "execution_count": 50,
   "metadata": {},
   "outputs": [],
   "source": [
    "def getCorr(in_text, out_text):\n",
    "    result = []\n",
    "    for i, o in zip(in_text, out_text):\n",
    "        out_token = word_tokenize(o)\n",
    "        in_token = word_tokenize(i)\n",
    "        oot = len([word for word in out_token if word not in in_token]) # out of topic\n",
    "        it = len([word for word in out_token if word in in_token]) # in topic\n",
    "        ut = len([word for word in in_token if word in out_token]) # used topic\n",
    "        lo = len(out_token) # length out text\n",
    "        result.append([oot, it, ut, lo])\n",
    "\n",
    "    return np.array(result)"
   ]
  },
  {
   "cell_type": "code",
   "execution_count": 51,
   "metadata": {},
   "outputs": [],
   "source": [
    "def getSimilarity(df):\n",
    "    input_t = cv.transform(df.input.values)\n",
    "    output_t = cv.transform(df.text.values)\n",
    "    data = []\n",
    "    for i,_ in enumerate(input_t):\n",
    "        data.append(cosine_similarity(output_t[i],input_t[i])[0])\n",
    "    return np.array(data)"
   ]
  },
  {
   "cell_type": "code",
   "execution_count": 52,
   "metadata": {},
   "outputs": [],
   "source": [
    "def getDataset(df):\n",
    "    df['input'] = df.prompt_title + \" \" + df.prompt_question + \" \" +df.prompt_text\n",
    "    df.index = df.student_id\n",
    "    df.drop(columns=['prompt_title','prompt_question','prompt_text','student_id'], inplace=True)\n",
    "    df['text'] = transformText(df.text.values)\n",
    "    df['input'] = transformText(df.input.values)\n",
    "    df[['oot','it','ut','lo']] = getCorr(df.input.values, df.text.values)\n",
    "    return df\n"
   ]
  },
  {
   "cell_type": "code",
   "execution_count": 53,
   "metadata": {},
   "outputs": [],
   "source": [
    "combine_df = getDataset(combine_df)"
   ]
  },
  {
   "cell_type": "code",
   "execution_count": 54,
   "metadata": {},
   "outputs": [
    {
     "name": "stderr",
     "output_type": "stream",
     "text": [
      "c:\\project\\kompetisi-kaggle\\venv\\lib\\site-packages\\sklearn\\feature_extraction\\text.py:525: UserWarning: The parameter 'token_pattern' will not be used since 'tokenizer' is not None'\n",
      "  warnings.warn(\n"
     ]
    },
    {
     "data": {
      "text/html": [
       "<style>#sk-container-id-3 {color: black;}#sk-container-id-3 pre{padding: 0;}#sk-container-id-3 div.sk-toggleable {background-color: white;}#sk-container-id-3 label.sk-toggleable__label {cursor: pointer;display: block;width: 100%;margin-bottom: 0;padding: 0.3em;box-sizing: border-box;text-align: center;}#sk-container-id-3 label.sk-toggleable__label-arrow:before {content: \"▸\";float: left;margin-right: 0.25em;color: #696969;}#sk-container-id-3 label.sk-toggleable__label-arrow:hover:before {color: black;}#sk-container-id-3 div.sk-estimator:hover label.sk-toggleable__label-arrow:before {color: black;}#sk-container-id-3 div.sk-toggleable__content {max-height: 0;max-width: 0;overflow: hidden;text-align: left;background-color: #f0f8ff;}#sk-container-id-3 div.sk-toggleable__content pre {margin: 0.2em;color: black;border-radius: 0.25em;background-color: #f0f8ff;}#sk-container-id-3 input.sk-toggleable__control:checked~div.sk-toggleable__content {max-height: 200px;max-width: 100%;overflow: auto;}#sk-container-id-3 input.sk-toggleable__control:checked~label.sk-toggleable__label-arrow:before {content: \"▾\";}#sk-container-id-3 div.sk-estimator input.sk-toggleable__control:checked~label.sk-toggleable__label {background-color: #d4ebff;}#sk-container-id-3 div.sk-label input.sk-toggleable__control:checked~label.sk-toggleable__label {background-color: #d4ebff;}#sk-container-id-3 input.sk-hidden--visually {border: 0;clip: rect(1px 1px 1px 1px);clip: rect(1px, 1px, 1px, 1px);height: 1px;margin: -1px;overflow: hidden;padding: 0;position: absolute;width: 1px;}#sk-container-id-3 div.sk-estimator {font-family: monospace;background-color: #f0f8ff;border: 1px dotted black;border-radius: 0.25em;box-sizing: border-box;margin-bottom: 0.5em;}#sk-container-id-3 div.sk-estimator:hover {background-color: #d4ebff;}#sk-container-id-3 div.sk-parallel-item::after {content: \"\";width: 100%;border-bottom: 1px solid gray;flex-grow: 1;}#sk-container-id-3 div.sk-label:hover label.sk-toggleable__label {background-color: #d4ebff;}#sk-container-id-3 div.sk-serial::before {content: \"\";position: absolute;border-left: 1px solid gray;box-sizing: border-box;top: 0;bottom: 0;left: 50%;z-index: 0;}#sk-container-id-3 div.sk-serial {display: flex;flex-direction: column;align-items: center;background-color: white;padding-right: 0.2em;padding-left: 0.2em;position: relative;}#sk-container-id-3 div.sk-item {position: relative;z-index: 1;}#sk-container-id-3 div.sk-parallel {display: flex;align-items: stretch;justify-content: center;background-color: white;position: relative;}#sk-container-id-3 div.sk-item::before, #sk-container-id-3 div.sk-parallel-item::before {content: \"\";position: absolute;border-left: 1px solid gray;box-sizing: border-box;top: 0;bottom: 0;left: 50%;z-index: -1;}#sk-container-id-3 div.sk-parallel-item {display: flex;flex-direction: column;z-index: 1;position: relative;background-color: white;}#sk-container-id-3 div.sk-parallel-item:first-child::after {align-self: flex-end;width: 50%;}#sk-container-id-3 div.sk-parallel-item:last-child::after {align-self: flex-start;width: 50%;}#sk-container-id-3 div.sk-parallel-item:only-child::after {width: 0;}#sk-container-id-3 div.sk-dashed-wrapped {border: 1px dashed gray;margin: 0 0.4em 0.5em 0.4em;box-sizing: border-box;padding-bottom: 0.4em;background-color: white;}#sk-container-id-3 div.sk-label label {font-family: monospace;font-weight: bold;display: inline-block;line-height: 1.2em;}#sk-container-id-3 div.sk-label-container {text-align: center;}#sk-container-id-3 div.sk-container {/* jupyter's `normalize.less` sets `[hidden] { display: none; }` but bootstrap.min.css set `[hidden] { display: none !important; }` so we also need the `!important` here to be able to override the default hidden behavior on the sphinx rendered scikit-learn.org. See: https://github.com/scikit-learn/scikit-learn/issues/21755 */display: inline-block !important;position: relative;}#sk-container-id-3 div.sk-text-repr-fallback {display: none;}</style><div id=\"sk-container-id-3\" class=\"sk-top-container\"><div class=\"sk-text-repr-fallback\"><pre>CountVectorizer(ngram_range=(1, 3),\n",
       "                tokenizer=&lt;function word_tokenize at 0x000001FB178768C0&gt;)</pre><b>In a Jupyter environment, please rerun this cell to show the HTML representation or trust the notebook. <br />On GitHub, the HTML representation is unable to render, please try loading this page with nbviewer.org.</b></div><div class=\"sk-container\" hidden><div class=\"sk-item\"><div class=\"sk-estimator sk-toggleable\"><input class=\"sk-toggleable__control sk-hidden--visually\" id=\"sk-estimator-id-10\" type=\"checkbox\" checked><label for=\"sk-estimator-id-10\" class=\"sk-toggleable__label sk-toggleable__label-arrow\">CountVectorizer</label><div class=\"sk-toggleable__content\"><pre>CountVectorizer(ngram_range=(1, 3),\n",
       "                tokenizer=&lt;function word_tokenize at 0x000001FB178768C0&gt;)</pre></div></div></div></div></div>"
      ],
      "text/plain": [
       "CountVectorizer(ngram_range=(1, 3),\n",
       "                tokenizer=<function word_tokenize at 0x000001FB178768C0>)"
      ]
     },
     "execution_count": 54,
     "metadata": {},
     "output_type": "execute_result"
    }
   ],
   "source": [
    "cv.fit(combine_df.input)"
   ]
  },
  {
   "cell_type": "code",
   "execution_count": 55,
   "metadata": {},
   "outputs": [
    {
     "data": {
      "text/html": [
       "<div>\n",
       "<style scoped>\n",
       "    .dataframe tbody tr th:only-of-type {\n",
       "        vertical-align: middle;\n",
       "    }\n",
       "\n",
       "    .dataframe tbody tr th {\n",
       "        vertical-align: top;\n",
       "    }\n",
       "\n",
       "    .dataframe thead th {\n",
       "        text-align: right;\n",
       "    }\n",
       "</style>\n",
       "<table border=\"1\" class=\"dataframe\">\n",
       "  <thead>\n",
       "    <tr style=\"text-align: right;\">\n",
       "      <th></th>\n",
       "      <th>text</th>\n",
       "      <th>content</th>\n",
       "      <th>wording</th>\n",
       "      <th>input</th>\n",
       "      <th>oot</th>\n",
       "      <th>it</th>\n",
       "      <th>ut</th>\n",
       "      <th>lo</th>\n",
       "      <th>similarity</th>\n",
       "    </tr>\n",
       "    <tr>\n",
       "      <th>student_id</th>\n",
       "      <th></th>\n",
       "      <th></th>\n",
       "      <th></th>\n",
       "      <th></th>\n",
       "      <th></th>\n",
       "      <th></th>\n",
       "      <th></th>\n",
       "      <th></th>\n",
       "      <th></th>\n",
       "    </tr>\n",
       "  </thead>\n",
       "  <tbody>\n",
       "    <tr>\n",
       "      <th>00791789cc1f</th>\n",
       "      <td>1 element of an ideal tragedy is that it shoul...</td>\n",
       "      <td>-0.210614</td>\n",
       "      <td>-0.471415</td>\n",
       "      <td>on tragedy summarize at least 3 elements of an...</td>\n",
       "      <td>9</td>\n",
       "      <td>50</td>\n",
       "      <td>226</td>\n",
       "      <td>59</td>\n",
       "      <td>0.316549</td>\n",
       "    </tr>\n",
       "    <tr>\n",
       "      <th>0086ef22de8f</th>\n",
       "      <td>the three elements of an ideal tragedy are:  h...</td>\n",
       "      <td>-0.970237</td>\n",
       "      <td>-0.417058</td>\n",
       "      <td>on tragedy summarize at least 3 elements of an...</td>\n",
       "      <td>8</td>\n",
       "      <td>22</td>\n",
       "      <td>253</td>\n",
       "      <td>30</td>\n",
       "      <td>0.499286</td>\n",
       "    </tr>\n",
       "    <tr>\n",
       "      <th>0094589c7a22</th>\n",
       "      <td>aristotle states that an ideal tragedy should ...</td>\n",
       "      <td>-0.387791</td>\n",
       "      <td>-0.584181</td>\n",
       "      <td>on tragedy summarize at least 3 elements of an...</td>\n",
       "      <td>28</td>\n",
       "      <td>46</td>\n",
       "      <td>283</td>\n",
       "      <td>74</td>\n",
       "      <td>0.407084</td>\n",
       "    </tr>\n",
       "    <tr>\n",
       "      <th>00cd5736026a</th>\n",
       "      <td>one element of an ideal tragedy is having a co...</td>\n",
       "      <td>0.088882</td>\n",
       "      <td>-0.594710</td>\n",
       "      <td>on tragedy summarize at least 3 elements of an...</td>\n",
       "      <td>14</td>\n",
       "      <td>47</td>\n",
       "      <td>244</td>\n",
       "      <td>61</td>\n",
       "      <td>0.439741</td>\n",
       "    </tr>\n",
       "    <tr>\n",
       "      <th>00d98b8ff756</th>\n",
       "      <td>the 3 ideal of tragedy is how complex you need...</td>\n",
       "      <td>-0.687288</td>\n",
       "      <td>-0.460886</td>\n",
       "      <td>on tragedy summarize at least 3 elements of an...</td>\n",
       "      <td>23</td>\n",
       "      <td>40</td>\n",
       "      <td>201</td>\n",
       "      <td>63</td>\n",
       "      <td>0.438908</td>\n",
       "    </tr>\n",
       "  </tbody>\n",
       "</table>\n",
       "</div>"
      ],
      "text/plain": [
       "                                                           text   content  \\\n",
       "student_id                                                                  \n",
       "00791789cc1f  1 element of an ideal tragedy is that it shoul... -0.210614   \n",
       "0086ef22de8f  the three elements of an ideal tragedy are:  h... -0.970237   \n",
       "0094589c7a22  aristotle states that an ideal tragedy should ... -0.387791   \n",
       "00cd5736026a  one element of an ideal tragedy is having a co...  0.088882   \n",
       "00d98b8ff756  the 3 ideal of tragedy is how complex you need... -0.687288   \n",
       "\n",
       "               wording                                              input  \\\n",
       "student_id                                                                  \n",
       "00791789cc1f -0.471415  on tragedy summarize at least 3 elements of an...   \n",
       "0086ef22de8f -0.417058  on tragedy summarize at least 3 elements of an...   \n",
       "0094589c7a22 -0.584181  on tragedy summarize at least 3 elements of an...   \n",
       "00cd5736026a -0.594710  on tragedy summarize at least 3 elements of an...   \n",
       "00d98b8ff756 -0.460886  on tragedy summarize at least 3 elements of an...   \n",
       "\n",
       "              oot  it   ut  lo  similarity  \n",
       "student_id                                  \n",
       "00791789cc1f    9  50  226  59    0.316549  \n",
       "0086ef22de8f    8  22  253  30    0.499286  \n",
       "0094589c7a22   28  46  283  74    0.407084  \n",
       "00cd5736026a   14  47  244  61    0.439741  \n",
       "00d98b8ff756   23  40  201  63    0.438908  "
      ]
     },
     "execution_count": 55,
     "metadata": {},
     "output_type": "execute_result"
    }
   ],
   "source": [
    "combine_df['similarity'] = getSimilarity(combine_df)\n",
    "combine_df.head()"
   ]
  },
  {
   "cell_type": "code",
   "execution_count": 56,
   "metadata": {},
   "outputs": [
    {
     "data": {
      "text/html": [
       "<div>\n",
       "<style scoped>\n",
       "    .dataframe tbody tr th:only-of-type {\n",
       "        vertical-align: middle;\n",
       "    }\n",
       "\n",
       "    .dataframe tbody tr th {\n",
       "        vertical-align: top;\n",
       "    }\n",
       "\n",
       "    .dataframe thead th {\n",
       "        text-align: right;\n",
       "    }\n",
       "</style>\n",
       "<table border=\"1\" class=\"dataframe\">\n",
       "  <thead>\n",
       "    <tr style=\"text-align: right;\">\n",
       "      <th></th>\n",
       "      <th>oot</th>\n",
       "      <th>ut</th>\n",
       "      <th>it</th>\n",
       "      <th>similarity</th>\n",
       "      <th>lo</th>\n",
       "      <th>content</th>\n",
       "      <th>wording</th>\n",
       "    </tr>\n",
       "  </thead>\n",
       "  <tbody>\n",
       "    <tr>\n",
       "      <th>oot</th>\n",
       "      <td>1.000000</td>\n",
       "      <td>0.218930</td>\n",
       "      <td>0.644359</td>\n",
       "      <td>0.489355</td>\n",
       "      <td>0.775695</td>\n",
       "      <td>0.684346</td>\n",
       "      <td>0.652487</td>\n",
       "    </tr>\n",
       "    <tr>\n",
       "      <th>ut</th>\n",
       "      <td>0.218930</td>\n",
       "      <td>1.000000</td>\n",
       "      <td>0.661555</td>\n",
       "      <td>0.523838</td>\n",
       "      <td>0.599368</td>\n",
       "      <td>0.481641</td>\n",
       "      <td>0.208865</td>\n",
       "    </tr>\n",
       "    <tr>\n",
       "      <th>it</th>\n",
       "      <td>0.644359</td>\n",
       "      <td>0.661555</td>\n",
       "      <td>1.000000</td>\n",
       "      <td>0.699401</td>\n",
       "      <td>0.982449</td>\n",
       "      <td>0.755106</td>\n",
       "      <td>0.445558</td>\n",
       "    </tr>\n",
       "    <tr>\n",
       "      <th>similarity</th>\n",
       "      <td>0.489355</td>\n",
       "      <td>0.523838</td>\n",
       "      <td>0.699401</td>\n",
       "      <td>1.000000</td>\n",
       "      <td>0.696563</td>\n",
       "      <td>0.671261</td>\n",
       "      <td>0.474167</td>\n",
       "    </tr>\n",
       "    <tr>\n",
       "      <th>lo</th>\n",
       "      <td>0.775695</td>\n",
       "      <td>0.599368</td>\n",
       "      <td>0.982449</td>\n",
       "      <td>0.696563</td>\n",
       "      <td>1.000000</td>\n",
       "      <td>0.790097</td>\n",
       "      <td>0.526863</td>\n",
       "    </tr>\n",
       "    <tr>\n",
       "      <th>content</th>\n",
       "      <td>0.684346</td>\n",
       "      <td>0.481641</td>\n",
       "      <td>0.755106</td>\n",
       "      <td>0.671261</td>\n",
       "      <td>0.790097</td>\n",
       "      <td>1.000000</td>\n",
       "      <td>0.751380</td>\n",
       "    </tr>\n",
       "    <tr>\n",
       "      <th>wording</th>\n",
       "      <td>0.652487</td>\n",
       "      <td>0.208865</td>\n",
       "      <td>0.445558</td>\n",
       "      <td>0.474167</td>\n",
       "      <td>0.526863</td>\n",
       "      <td>0.751380</td>\n",
       "      <td>1.000000</td>\n",
       "    </tr>\n",
       "  </tbody>\n",
       "</table>\n",
       "</div>"
      ],
      "text/plain": [
       "                 oot        ut        it  similarity        lo   content  \\\n",
       "oot         1.000000  0.218930  0.644359    0.489355  0.775695  0.684346   \n",
       "ut          0.218930  1.000000  0.661555    0.523838  0.599368  0.481641   \n",
       "it          0.644359  0.661555  1.000000    0.699401  0.982449  0.755106   \n",
       "similarity  0.489355  0.523838  0.699401    1.000000  0.696563  0.671261   \n",
       "lo          0.775695  0.599368  0.982449    0.696563  1.000000  0.790097   \n",
       "content     0.684346  0.481641  0.755106    0.671261  0.790097  1.000000   \n",
       "wording     0.652487  0.208865  0.445558    0.474167  0.526863  0.751380   \n",
       "\n",
       "             wording  \n",
       "oot         0.652487  \n",
       "ut          0.208865  \n",
       "it          0.445558  \n",
       "similarity  0.474167  \n",
       "lo          0.526863  \n",
       "content     0.751380  \n",
       "wording     1.000000  "
      ]
     },
     "execution_count": 56,
     "metadata": {},
     "output_type": "execute_result"
    }
   ],
   "source": [
    "combine_df[['oot','ut','it','similarity','lo','content','wording']].corr()"
   ]
  },
  {
   "cell_type": "code",
   "execution_count": 58,
   "metadata": {},
   "outputs": [
    {
     "data": {
      "text/plain": [
       "((5732, 5), (1433, 5), (5732, 2), (1433, 2))"
      ]
     },
     "execution_count": 58,
     "metadata": {},
     "output_type": "execute_result"
    }
   ],
   "source": [
    "X = combine_df[['oot','ut','it','similarity','lo']]\n",
    "y = combine_df[['content','wording']]\n",
    "X_train, X_test, y_train, y_test = train_test_split(X, y, test_size=.2, random_state=42, stratify=combine_df.input)\n",
    "X_train.shape, X_test.shape, y_train.shape, y_test.shape   "
   ]
  },
  {
   "cell_type": "code",
   "execution_count": 59,
   "metadata": {},
   "outputs": [],
   "source": [
    "numerical_pipeline = Pipeline([\n",
    "    (\"scaler\", RobustScaler())\n",
    "])\n",
    "preprocessor = ColumnTransformer([\n",
    "    (\"numeric\", numerical_pipeline, X_train.columns),\n",
    "])\n",
    "pipeline = Pipeline([\n",
    "    (\"prep\", preprocessor),\n",
    "    (\"algo\", MultiOutputRegressor(GradientBoostingRegressor(random_state=42)))\n",
    "])"
   ]
  },
  {
   "cell_type": "code",
   "execution_count": 60,
   "metadata": {},
   "outputs": [
    {
     "name": "stdout",
     "output_type": "stream",
     "text": [
      "Fitting 3 folds for each of 50 candidates, totalling 150 fits\n"
     ]
    },
    {
     "data": {
      "text/html": [
       "<style>#sk-container-id-4 {color: black;}#sk-container-id-4 pre{padding: 0;}#sk-container-id-4 div.sk-toggleable {background-color: white;}#sk-container-id-4 label.sk-toggleable__label {cursor: pointer;display: block;width: 100%;margin-bottom: 0;padding: 0.3em;box-sizing: border-box;text-align: center;}#sk-container-id-4 label.sk-toggleable__label-arrow:before {content: \"▸\";float: left;margin-right: 0.25em;color: #696969;}#sk-container-id-4 label.sk-toggleable__label-arrow:hover:before {color: black;}#sk-container-id-4 div.sk-estimator:hover label.sk-toggleable__label-arrow:before {color: black;}#sk-container-id-4 div.sk-toggleable__content {max-height: 0;max-width: 0;overflow: hidden;text-align: left;background-color: #f0f8ff;}#sk-container-id-4 div.sk-toggleable__content pre {margin: 0.2em;color: black;border-radius: 0.25em;background-color: #f0f8ff;}#sk-container-id-4 input.sk-toggleable__control:checked~div.sk-toggleable__content {max-height: 200px;max-width: 100%;overflow: auto;}#sk-container-id-4 input.sk-toggleable__control:checked~label.sk-toggleable__label-arrow:before {content: \"▾\";}#sk-container-id-4 div.sk-estimator input.sk-toggleable__control:checked~label.sk-toggleable__label {background-color: #d4ebff;}#sk-container-id-4 div.sk-label input.sk-toggleable__control:checked~label.sk-toggleable__label {background-color: #d4ebff;}#sk-container-id-4 input.sk-hidden--visually {border: 0;clip: rect(1px 1px 1px 1px);clip: rect(1px, 1px, 1px, 1px);height: 1px;margin: -1px;overflow: hidden;padding: 0;position: absolute;width: 1px;}#sk-container-id-4 div.sk-estimator {font-family: monospace;background-color: #f0f8ff;border: 1px dotted black;border-radius: 0.25em;box-sizing: border-box;margin-bottom: 0.5em;}#sk-container-id-4 div.sk-estimator:hover {background-color: #d4ebff;}#sk-container-id-4 div.sk-parallel-item::after {content: \"\";width: 100%;border-bottom: 1px solid gray;flex-grow: 1;}#sk-container-id-4 div.sk-label:hover label.sk-toggleable__label {background-color: #d4ebff;}#sk-container-id-4 div.sk-serial::before {content: \"\";position: absolute;border-left: 1px solid gray;box-sizing: border-box;top: 0;bottom: 0;left: 50%;z-index: 0;}#sk-container-id-4 div.sk-serial {display: flex;flex-direction: column;align-items: center;background-color: white;padding-right: 0.2em;padding-left: 0.2em;position: relative;}#sk-container-id-4 div.sk-item {position: relative;z-index: 1;}#sk-container-id-4 div.sk-parallel {display: flex;align-items: stretch;justify-content: center;background-color: white;position: relative;}#sk-container-id-4 div.sk-item::before, #sk-container-id-4 div.sk-parallel-item::before {content: \"\";position: absolute;border-left: 1px solid gray;box-sizing: border-box;top: 0;bottom: 0;left: 50%;z-index: -1;}#sk-container-id-4 div.sk-parallel-item {display: flex;flex-direction: column;z-index: 1;position: relative;background-color: white;}#sk-container-id-4 div.sk-parallel-item:first-child::after {align-self: flex-end;width: 50%;}#sk-container-id-4 div.sk-parallel-item:last-child::after {align-self: flex-start;width: 50%;}#sk-container-id-4 div.sk-parallel-item:only-child::after {width: 0;}#sk-container-id-4 div.sk-dashed-wrapped {border: 1px dashed gray;margin: 0 0.4em 0.5em 0.4em;box-sizing: border-box;padding-bottom: 0.4em;background-color: white;}#sk-container-id-4 div.sk-label label {font-family: monospace;font-weight: bold;display: inline-block;line-height: 1.2em;}#sk-container-id-4 div.sk-label-container {text-align: center;}#sk-container-id-4 div.sk-container {/* jupyter's `normalize.less` sets `[hidden] { display: none; }` but bootstrap.min.css set `[hidden] { display: none !important; }` so we also need the `!important` here to be able to override the default hidden behavior on the sphinx rendered scikit-learn.org. See: https://github.com/scikit-learn/scikit-learn/issues/21755 */display: inline-block !important;position: relative;}#sk-container-id-4 div.sk-text-repr-fallback {display: none;}</style><div id=\"sk-container-id-4\" class=\"sk-top-container\"><div class=\"sk-text-repr-fallback\"><pre>RandomizedSearchCV(cv=3,\n",
       "                   estimator=Pipeline(steps=[(&#x27;prep&#x27;,\n",
       "                                              ColumnTransformer(transformers=[(&#x27;numeric&#x27;,\n",
       "                                                                               Pipeline(steps=[(&#x27;scaler&#x27;,\n",
       "                                                                                                RobustScaler())]),\n",
       "                                                                               Index([&#x27;oot&#x27;, &#x27;ut&#x27;, &#x27;it&#x27;, &#x27;similarity&#x27;, &#x27;lo&#x27;], dtype=&#x27;object&#x27;))])),\n",
       "                                             (&#x27;algo&#x27;,\n",
       "                                              MultiOutputRegressor(estimator=GradientBoostingRegressor(random_state=42)))]),\n",
       "                   n_iter=50, n_jobs=-1,\n",
       "                   param_distributions={&#x27;algo__estimator__max_depth&#x27;: range(1, 20, 2),\n",
       "                                        &#x27;algo__estimator__max_features&#x27;: range(1, 20, 2),\n",
       "                                        &#x27;algo__estimator__min_samples_leaf&#x27;: range(1, 20, 2)},\n",
       "                   verbose=1)</pre><b>In a Jupyter environment, please rerun this cell to show the HTML representation or trust the notebook. <br />On GitHub, the HTML representation is unable to render, please try loading this page with nbviewer.org.</b></div><div class=\"sk-container\" hidden><div class=\"sk-item sk-dashed-wrapped\"><div class=\"sk-label-container\"><div class=\"sk-label sk-toggleable\"><input class=\"sk-toggleable__control sk-hidden--visually\" id=\"sk-estimator-id-11\" type=\"checkbox\" ><label for=\"sk-estimator-id-11\" class=\"sk-toggleable__label sk-toggleable__label-arrow\">RandomizedSearchCV</label><div class=\"sk-toggleable__content\"><pre>RandomizedSearchCV(cv=3,\n",
       "                   estimator=Pipeline(steps=[(&#x27;prep&#x27;,\n",
       "                                              ColumnTransformer(transformers=[(&#x27;numeric&#x27;,\n",
       "                                                                               Pipeline(steps=[(&#x27;scaler&#x27;,\n",
       "                                                                                                RobustScaler())]),\n",
       "                                                                               Index([&#x27;oot&#x27;, &#x27;ut&#x27;, &#x27;it&#x27;, &#x27;similarity&#x27;, &#x27;lo&#x27;], dtype=&#x27;object&#x27;))])),\n",
       "                                             (&#x27;algo&#x27;,\n",
       "                                              MultiOutputRegressor(estimator=GradientBoostingRegressor(random_state=42)))]),\n",
       "                   n_iter=50, n_jobs=-1,\n",
       "                   param_distributions={&#x27;algo__estimator__max_depth&#x27;: range(1, 20, 2),\n",
       "                                        &#x27;algo__estimator__max_features&#x27;: range(1, 20, 2),\n",
       "                                        &#x27;algo__estimator__min_samples_leaf&#x27;: range(1, 20, 2)},\n",
       "                   verbose=1)</pre></div></div></div><div class=\"sk-parallel\"><div class=\"sk-parallel-item\"><div class=\"sk-item\"><div class=\"sk-label-container\"><div class=\"sk-label sk-toggleable\"><input class=\"sk-toggleable__control sk-hidden--visually\" id=\"sk-estimator-id-12\" type=\"checkbox\" ><label for=\"sk-estimator-id-12\" class=\"sk-toggleable__label sk-toggleable__label-arrow\">estimator: Pipeline</label><div class=\"sk-toggleable__content\"><pre>Pipeline(steps=[(&#x27;prep&#x27;,\n",
       "                 ColumnTransformer(transformers=[(&#x27;numeric&#x27;,\n",
       "                                                  Pipeline(steps=[(&#x27;scaler&#x27;,\n",
       "                                                                   RobustScaler())]),\n",
       "                                                  Index([&#x27;oot&#x27;, &#x27;ut&#x27;, &#x27;it&#x27;, &#x27;similarity&#x27;, &#x27;lo&#x27;], dtype=&#x27;object&#x27;))])),\n",
       "                (&#x27;algo&#x27;,\n",
       "                 MultiOutputRegressor(estimator=GradientBoostingRegressor(random_state=42)))])</pre></div></div></div><div class=\"sk-serial\"><div class=\"sk-item\"><div class=\"sk-serial\"><div class=\"sk-item sk-dashed-wrapped\"><div class=\"sk-label-container\"><div class=\"sk-label sk-toggleable\"><input class=\"sk-toggleable__control sk-hidden--visually\" id=\"sk-estimator-id-13\" type=\"checkbox\" ><label for=\"sk-estimator-id-13\" class=\"sk-toggleable__label sk-toggleable__label-arrow\">prep: ColumnTransformer</label><div class=\"sk-toggleable__content\"><pre>ColumnTransformer(transformers=[(&#x27;numeric&#x27;,\n",
       "                                 Pipeline(steps=[(&#x27;scaler&#x27;, RobustScaler())]),\n",
       "                                 Index([&#x27;oot&#x27;, &#x27;ut&#x27;, &#x27;it&#x27;, &#x27;similarity&#x27;, &#x27;lo&#x27;], dtype=&#x27;object&#x27;))])</pre></div></div></div><div class=\"sk-parallel\"><div class=\"sk-parallel-item\"><div class=\"sk-item\"><div class=\"sk-label-container\"><div class=\"sk-label sk-toggleable\"><input class=\"sk-toggleable__control sk-hidden--visually\" id=\"sk-estimator-id-14\" type=\"checkbox\" ><label for=\"sk-estimator-id-14\" class=\"sk-toggleable__label sk-toggleable__label-arrow\">numeric</label><div class=\"sk-toggleable__content\"><pre>Index([&#x27;oot&#x27;, &#x27;ut&#x27;, &#x27;it&#x27;, &#x27;similarity&#x27;, &#x27;lo&#x27;], dtype=&#x27;object&#x27;)</pre></div></div></div><div class=\"sk-serial\"><div class=\"sk-item\"><div class=\"sk-serial\"><div class=\"sk-item\"><div class=\"sk-estimator sk-toggleable\"><input class=\"sk-toggleable__control sk-hidden--visually\" id=\"sk-estimator-id-15\" type=\"checkbox\" ><label for=\"sk-estimator-id-15\" class=\"sk-toggleable__label sk-toggleable__label-arrow\">RobustScaler</label><div class=\"sk-toggleable__content\"><pre>RobustScaler()</pre></div></div></div></div></div></div></div></div></div></div><div class=\"sk-item sk-dashed-wrapped\"><div class=\"sk-label-container\"><div class=\"sk-label sk-toggleable\"><input class=\"sk-toggleable__control sk-hidden--visually\" id=\"sk-estimator-id-16\" type=\"checkbox\" ><label for=\"sk-estimator-id-16\" class=\"sk-toggleable__label sk-toggleable__label-arrow\">algo: MultiOutputRegressor</label><div class=\"sk-toggleable__content\"><pre>MultiOutputRegressor(estimator=GradientBoostingRegressor(random_state=42))</pre></div></div></div><div class=\"sk-parallel\"><div class=\"sk-parallel-item\"><div class=\"sk-item\"><div class=\"sk-label-container\"><div class=\"sk-label sk-toggleable\"><input class=\"sk-toggleable__control sk-hidden--visually\" id=\"sk-estimator-id-17\" type=\"checkbox\" ><label for=\"sk-estimator-id-17\" class=\"sk-toggleable__label sk-toggleable__label-arrow\">estimator: GradientBoostingRegressor</label><div class=\"sk-toggleable__content\"><pre>GradientBoostingRegressor(random_state=42)</pre></div></div></div><div class=\"sk-serial\"><div class=\"sk-item\"><div class=\"sk-estimator sk-toggleable\"><input class=\"sk-toggleable__control sk-hidden--visually\" id=\"sk-estimator-id-18\" type=\"checkbox\" ><label for=\"sk-estimator-id-18\" class=\"sk-toggleable__label sk-toggleable__label-arrow\">GradientBoostingRegressor</label><div class=\"sk-toggleable__content\"><pre>GradientBoostingRegressor(random_state=42)</pre></div></div></div></div></div></div></div></div></div></div></div></div></div></div></div></div></div>"
      ],
      "text/plain": [
       "RandomizedSearchCV(cv=3,\n",
       "                   estimator=Pipeline(steps=[('prep',\n",
       "                                              ColumnTransformer(transformers=[('numeric',\n",
       "                                                                               Pipeline(steps=[('scaler',\n",
       "                                                                                                RobustScaler())]),\n",
       "                                                                               Index(['oot', 'ut', 'it', 'similarity', 'lo'], dtype='object'))])),\n",
       "                                             ('algo',\n",
       "                                              MultiOutputRegressor(estimator=GradientBoostingRegressor(random_state=42)))]),\n",
       "                   n_iter=50, n_jobs=-1,\n",
       "                   param_distributions={'algo__estimator__max_depth': range(1, 20, 2),\n",
       "                                        'algo__estimator__max_features': range(1, 20, 2),\n",
       "                                        'algo__estimator__min_samples_leaf': range(1, 20, 2)},\n",
       "                   verbose=1)"
      ]
     },
     "execution_count": 60,
     "metadata": {},
     "output_type": "execute_result"
    }
   ],
   "source": [
    "parameter = {\n",
    "    'algo__estimator__max_depth' : range(1,20,2),\n",
    "    'algo__estimator__max_features' : range(1,20,2),\n",
    "    'algo__estimator__min_samples_leaf' : range(1,20,2)\n",
    "}\n",
    "model = RandomizedSearchCV(pipeline, parameter, cv=3, n_jobs=-1, verbose=1, n_iter=50)\n",
    "model.fit(X_train, y_train)"
   ]
  },
  {
   "cell_type": "code",
   "execution_count": 61,
   "metadata": {},
   "outputs": [
    {
     "name": "stdout",
     "output_type": "stream",
     "text": [
      "0.7228753745062919 0.6823442439217134 {'algo__estimator__min_samples_leaf': 1, 'algo__estimator__max_features': 9, 'algo__estimator__max_depth': 3} 0.6783160058369884\n"
     ]
    }
   ],
   "source": [
    "print(model.score(X_train, y_train), model.score(X_test, y_test), model.best_params_, model.best_score_)"
   ]
  },
  {
   "cell_type": "code",
   "execution_count": 62,
   "metadata": {},
   "outputs": [],
   "source": [
    "import pickle"
   ]
  },
  {
   "cell_type": "code",
   "execution_count": 63,
   "metadata": {},
   "outputs": [],
   "source": [
    "model_path = \"../model/model.pkl\""
   ]
  },
  {
   "cell_type": "code",
   "execution_count": 64,
   "metadata": {},
   "outputs": [],
   "source": [
    "pickle.dump(model.best_estimator_, open(model_path, 'wb'))"
   ]
  },
  {
   "cell_type": "code",
   "execution_count": 65,
   "metadata": {},
   "outputs": [],
   "source": [
    "model = pickle.load(open(model_path, 'rb'))"
   ]
  },
  {
   "cell_type": "code",
   "execution_count": 66,
   "metadata": {},
   "outputs": [
    {
     "data": {
      "text/plain": [
       "array([[-0.96262197, -0.79647136],\n",
       "       [ 1.59599608,  0.61967018],\n",
       "       [ 2.26775384,  0.94151328],\n",
       "       ...,\n",
       "       [ 2.51697993,  2.51455478],\n",
       "       [ 0.5066772 ,  0.77022693],\n",
       "       [ 1.69036458,  0.12481981]])"
      ]
     },
     "execution_count": 66,
     "metadata": {},
     "output_type": "execute_result"
    }
   ],
   "source": [
    "y_pred = model.predict(X_test)\n",
    "y_pred"
   ]
  },
  {
   "cell_type": "code",
   "execution_count": 67,
   "metadata": {},
   "outputs": [],
   "source": [
    "from sklearn.metrics import mean_squared_error"
   ]
  },
  {
   "cell_type": "code",
   "execution_count": 68,
   "metadata": {},
   "outputs": [
    {
     "name": "stdout",
     "output_type": "stream",
     "text": [
      "0.3456740624784789\n"
     ]
    }
   ],
   "source": [
    "print(mean_squared_error(y_test, y_pred))"
   ]
  },
  {
   "cell_type": "code",
   "execution_count": 69,
   "metadata": {},
   "outputs": [],
   "source": [
    "df_test_summaries = pd.read_csv(\"../data/summaries_test.csv\", index_col=\"prompt_id\")\n",
    "df_test_prompt = pd.read_csv(\"../data/prompts_test.csv\", index_col=\"prompt_id\")"
   ]
  },
  {
   "cell_type": "code",
   "execution_count": 70,
   "metadata": {},
   "outputs": [
    {
     "data": {
      "text/html": [
       "<div>\n",
       "<style scoped>\n",
       "    .dataframe tbody tr th:only-of-type {\n",
       "        vertical-align: middle;\n",
       "    }\n",
       "\n",
       "    .dataframe tbody tr th {\n",
       "        vertical-align: top;\n",
       "    }\n",
       "\n",
       "    .dataframe thead th {\n",
       "        text-align: right;\n",
       "    }\n",
       "</style>\n",
       "<table border=\"1\" class=\"dataframe\">\n",
       "  <thead>\n",
       "    <tr style=\"text-align: right;\">\n",
       "      <th></th>\n",
       "      <th>student_id</th>\n",
       "      <th>text</th>\n",
       "      <th>prompt_question</th>\n",
       "      <th>prompt_title</th>\n",
       "      <th>prompt_text</th>\n",
       "    </tr>\n",
       "    <tr>\n",
       "      <th>prompt_id</th>\n",
       "      <th></th>\n",
       "      <th></th>\n",
       "      <th></th>\n",
       "      <th></th>\n",
       "      <th></th>\n",
       "    </tr>\n",
       "  </thead>\n",
       "  <tbody>\n",
       "    <tr>\n",
       "      <th>abc123</th>\n",
       "      <td>000000ffffff</td>\n",
       "      <td>Example text 1</td>\n",
       "      <td>Summarize...</td>\n",
       "      <td>Example Title 1</td>\n",
       "      <td>Heading\\nText...</td>\n",
       "    </tr>\n",
       "    <tr>\n",
       "      <th>abc123</th>\n",
       "      <td>222222cccccc</td>\n",
       "      <td>Example text 3</td>\n",
       "      <td>Summarize...</td>\n",
       "      <td>Example Title 1</td>\n",
       "      <td>Heading\\nText...</td>\n",
       "    </tr>\n",
       "    <tr>\n",
       "      <th>def789</th>\n",
       "      <td>111111eeeeee</td>\n",
       "      <td>Example text 2</td>\n",
       "      <td>Summarize...</td>\n",
       "      <td>Example Title 2</td>\n",
       "      <td>Heading\\nText...</td>\n",
       "    </tr>\n",
       "    <tr>\n",
       "      <th>def789</th>\n",
       "      <td>333333dddddd</td>\n",
       "      <td>Example text 4</td>\n",
       "      <td>Summarize...</td>\n",
       "      <td>Example Title 2</td>\n",
       "      <td>Heading\\nText...</td>\n",
       "    </tr>\n",
       "  </tbody>\n",
       "</table>\n",
       "</div>"
      ],
      "text/plain": [
       "             student_id            text prompt_question     prompt_title  \\\n",
       "prompt_id                                                                  \n",
       "abc123     000000ffffff  Example text 1    Summarize...  Example Title 1   \n",
       "abc123     222222cccccc  Example text 3    Summarize...  Example Title 1   \n",
       "def789     111111eeeeee  Example text 2    Summarize...  Example Title 2   \n",
       "def789     333333dddddd  Example text 4    Summarize...  Example Title 2   \n",
       "\n",
       "                prompt_text  \n",
       "prompt_id                    \n",
       "abc123     Heading\\nText...  \n",
       "abc123     Heading\\nText...  \n",
       "def789     Heading\\nText...  \n",
       "def789     Heading\\nText...  "
      ]
     },
     "execution_count": 70,
     "metadata": {},
     "output_type": "execute_result"
    }
   ],
   "source": [
    "combine_test_df = df_test_summaries.join(df_test_prompt, how=\"outer\",lsuffix=\"prompt_id\")\n",
    "combine_test_df.head()"
   ]
  },
  {
   "cell_type": "code",
   "execution_count": 71,
   "metadata": {},
   "outputs": [
    {
     "data": {
      "text/html": [
       "<div>\n",
       "<style scoped>\n",
       "    .dataframe tbody tr th:only-of-type {\n",
       "        vertical-align: middle;\n",
       "    }\n",
       "\n",
       "    .dataframe tbody tr th {\n",
       "        vertical-align: top;\n",
       "    }\n",
       "\n",
       "    .dataframe thead th {\n",
       "        text-align: right;\n",
       "    }\n",
       "</style>\n",
       "<table border=\"1\" class=\"dataframe\">\n",
       "  <thead>\n",
       "    <tr style=\"text-align: right;\">\n",
       "      <th></th>\n",
       "      <th>text</th>\n",
       "      <th>input</th>\n",
       "      <th>oot</th>\n",
       "      <th>it</th>\n",
       "      <th>ut</th>\n",
       "      <th>lo</th>\n",
       "    </tr>\n",
       "    <tr>\n",
       "      <th>student_id</th>\n",
       "      <th></th>\n",
       "      <th></th>\n",
       "      <th></th>\n",
       "      <th></th>\n",
       "      <th></th>\n",
       "      <th></th>\n",
       "    </tr>\n",
       "  </thead>\n",
       "  <tbody>\n",
       "    <tr>\n",
       "      <th>000000ffffff</th>\n",
       "      <td>example text 1</td>\n",
       "      <td>example title 1 summarize... heading\\ntext...</td>\n",
       "      <td>0</td>\n",
       "      <td>3</td>\n",
       "      <td>3</td>\n",
       "      <td>3</td>\n",
       "    </tr>\n",
       "    <tr>\n",
       "      <th>222222cccccc</th>\n",
       "      <td>example text 3</td>\n",
       "      <td>example title 1 summarize... heading\\ntext...</td>\n",
       "      <td>1</td>\n",
       "      <td>2</td>\n",
       "      <td>2</td>\n",
       "      <td>3</td>\n",
       "    </tr>\n",
       "    <tr>\n",
       "      <th>111111eeeeee</th>\n",
       "      <td>example text 2</td>\n",
       "      <td>example title 2 summarize... heading\\ntext...</td>\n",
       "      <td>0</td>\n",
       "      <td>3</td>\n",
       "      <td>3</td>\n",
       "      <td>3</td>\n",
       "    </tr>\n",
       "    <tr>\n",
       "      <th>333333dddddd</th>\n",
       "      <td>example text 4</td>\n",
       "      <td>example title 2 summarize... heading\\ntext...</td>\n",
       "      <td>1</td>\n",
       "      <td>2</td>\n",
       "      <td>2</td>\n",
       "      <td>3</td>\n",
       "    </tr>\n",
       "  </tbody>\n",
       "</table>\n",
       "</div>"
      ],
      "text/plain": [
       "                        text                                          input  \\\n",
       "student_id                                                                    \n",
       "000000ffffff  example text 1  example title 1 summarize... heading\\ntext...   \n",
       "222222cccccc  example text 3  example title 1 summarize... heading\\ntext...   \n",
       "111111eeeeee  example text 2  example title 2 summarize... heading\\ntext...   \n",
       "333333dddddd  example text 4  example title 2 summarize... heading\\ntext...   \n",
       "\n",
       "              oot  it  ut  lo  \n",
       "student_id                     \n",
       "000000ffffff    0   3   3   3  \n",
       "222222cccccc    1   2   2   3  \n",
       "111111eeeeee    0   3   3   3  \n",
       "333333dddddd    1   2   2   3  "
      ]
     },
     "execution_count": 71,
     "metadata": {},
     "output_type": "execute_result"
    }
   ],
   "source": [
    "combine_test_df = getDataset(combine_test_df)\n",
    "combine_test_df.head()"
   ]
  },
  {
   "cell_type": "code",
   "execution_count": 72,
   "metadata": {},
   "outputs": [
    {
     "data": {
      "text/html": [
       "<div>\n",
       "<style scoped>\n",
       "    .dataframe tbody tr th:only-of-type {\n",
       "        vertical-align: middle;\n",
       "    }\n",
       "\n",
       "    .dataframe tbody tr th {\n",
       "        vertical-align: top;\n",
       "    }\n",
       "\n",
       "    .dataframe thead th {\n",
       "        text-align: right;\n",
       "    }\n",
       "</style>\n",
       "<table border=\"1\" class=\"dataframe\">\n",
       "  <thead>\n",
       "    <tr style=\"text-align: right;\">\n",
       "      <th></th>\n",
       "      <th>text</th>\n",
       "      <th>input</th>\n",
       "      <th>oot</th>\n",
       "      <th>it</th>\n",
       "      <th>ut</th>\n",
       "      <th>lo</th>\n",
       "      <th>similarity</th>\n",
       "    </tr>\n",
       "    <tr>\n",
       "      <th>student_id</th>\n",
       "      <th></th>\n",
       "      <th></th>\n",
       "      <th></th>\n",
       "      <th></th>\n",
       "      <th></th>\n",
       "      <th></th>\n",
       "      <th></th>\n",
       "    </tr>\n",
       "  </thead>\n",
       "  <tbody>\n",
       "    <tr>\n",
       "      <th>000000ffffff</th>\n",
       "      <td>example text 1</td>\n",
       "      <td>example title 1 summarize... heading\\ntext...</td>\n",
       "      <td>0</td>\n",
       "      <td>3</td>\n",
       "      <td>3</td>\n",
       "      <td>3</td>\n",
       "      <td>0.707107</td>\n",
       "    </tr>\n",
       "    <tr>\n",
       "      <th>222222cccccc</th>\n",
       "      <td>example text 3</td>\n",
       "      <td>example title 1 summarize... heading\\ntext...</td>\n",
       "      <td>1</td>\n",
       "      <td>2</td>\n",
       "      <td>2</td>\n",
       "      <td>3</td>\n",
       "      <td>0.500000</td>\n",
       "    </tr>\n",
       "    <tr>\n",
       "      <th>111111eeeeee</th>\n",
       "      <td>example text 2</td>\n",
       "      <td>example title 2 summarize... heading\\ntext...</td>\n",
       "      <td>0</td>\n",
       "      <td>3</td>\n",
       "      <td>3</td>\n",
       "      <td>3</td>\n",
       "      <td>0.707107</td>\n",
       "    </tr>\n",
       "    <tr>\n",
       "      <th>333333dddddd</th>\n",
       "      <td>example text 4</td>\n",
       "      <td>example title 2 summarize... heading\\ntext...</td>\n",
       "      <td>1</td>\n",
       "      <td>2</td>\n",
       "      <td>2</td>\n",
       "      <td>3</td>\n",
       "      <td>0.707107</td>\n",
       "    </tr>\n",
       "  </tbody>\n",
       "</table>\n",
       "</div>"
      ],
      "text/plain": [
       "                        text                                          input  \\\n",
       "student_id                                                                    \n",
       "000000ffffff  example text 1  example title 1 summarize... heading\\ntext...   \n",
       "222222cccccc  example text 3  example title 1 summarize... heading\\ntext...   \n",
       "111111eeeeee  example text 2  example title 2 summarize... heading\\ntext...   \n",
       "333333dddddd  example text 4  example title 2 summarize... heading\\ntext...   \n",
       "\n",
       "              oot  it  ut  lo  similarity  \n",
       "student_id                                 \n",
       "000000ffffff    0   3   3   3    0.707107  \n",
       "222222cccccc    1   2   2   3    0.500000  \n",
       "111111eeeeee    0   3   3   3    0.707107  \n",
       "333333dddddd    1   2   2   3    0.707107  "
      ]
     },
     "execution_count": 72,
     "metadata": {},
     "output_type": "execute_result"
    }
   ],
   "source": [
    "combine_test_df['similarity'] = getSimilarity(combine_test_df)\n",
    "combine_test_df.head()"
   ]
  },
  {
   "cell_type": "code",
   "execution_count": 73,
   "metadata": {},
   "outputs": [
    {
     "data": {
      "text/plain": [
       "array([[-1.75094255, -0.70150278],\n",
       "       [-1.37444353, -1.41328988],\n",
       "       [-1.75094255, -0.70150278],\n",
       "       [-1.36502467, -0.89419612]])"
      ]
     },
     "execution_count": 73,
     "metadata": {},
     "output_type": "execute_result"
    }
   ],
   "source": [
    "y_pred = model.predict(combine_test_df[['oot','ut','it','similarity','lo']])\n",
    "y_pred"
   ]
  },
  {
   "cell_type": "code",
   "execution_count": 74,
   "metadata": {},
   "outputs": [
    {
     "data": {
      "text/html": [
       "<div>\n",
       "<style scoped>\n",
       "    .dataframe tbody tr th:only-of-type {\n",
       "        vertical-align: middle;\n",
       "    }\n",
       "\n",
       "    .dataframe tbody tr th {\n",
       "        vertical-align: top;\n",
       "    }\n",
       "\n",
       "    .dataframe thead th {\n",
       "        text-align: right;\n",
       "    }\n",
       "</style>\n",
       "<table border=\"1\" class=\"dataframe\">\n",
       "  <thead>\n",
       "    <tr style=\"text-align: right;\">\n",
       "      <th></th>\n",
       "      <th>content</th>\n",
       "      <th>wording</th>\n",
       "    </tr>\n",
       "    <tr>\n",
       "      <th>student_id</th>\n",
       "      <th></th>\n",
       "      <th></th>\n",
       "    </tr>\n",
       "  </thead>\n",
       "  <tbody>\n",
       "    <tr>\n",
       "      <th>000000ffffff</th>\n",
       "      <td>-1.750943</td>\n",
       "      <td>-0.701503</td>\n",
       "    </tr>\n",
       "    <tr>\n",
       "      <th>222222cccccc</th>\n",
       "      <td>-1.374444</td>\n",
       "      <td>-1.413290</td>\n",
       "    </tr>\n",
       "    <tr>\n",
       "      <th>111111eeeeee</th>\n",
       "      <td>-1.750943</td>\n",
       "      <td>-0.701503</td>\n",
       "    </tr>\n",
       "    <tr>\n",
       "      <th>333333dddddd</th>\n",
       "      <td>-1.365025</td>\n",
       "      <td>-0.894196</td>\n",
       "    </tr>\n",
       "  </tbody>\n",
       "</table>\n",
       "</div>"
      ],
      "text/plain": [
       "               content   wording\n",
       "student_id                      \n",
       "000000ffffff -1.750943 -0.701503\n",
       "222222cccccc -1.374444 -1.413290\n",
       "111111eeeeee -1.750943 -0.701503\n",
       "333333dddddd -1.365025 -0.894196"
      ]
     },
     "execution_count": 74,
     "metadata": {},
     "output_type": "execute_result"
    }
   ],
   "source": [
    "save_csv = pd.DataFrame(y_pred, columns=['content','wording'], index=combine_test_df.index)\n",
    "save_csv.head()"
   ]
  },
  {
   "cell_type": "code",
   "execution_count": 75,
   "metadata": {},
   "outputs": [],
   "source": [
    "save_csv.to_csv('../submission/submission.csv')"
   ]
  },
  {
   "cell_type": "code",
   "execution_count": null,
   "metadata": {},
   "outputs": [],
   "source": []
  },
  {
   "cell_type": "code",
   "execution_count": null,
   "metadata": {},
   "outputs": [],
   "source": []
  }
 ],
 "metadata": {
  "kernelspec": {
   "display_name": "venv",
   "language": "python",
   "name": "python3"
  },
  "language_info": {
   "codemirror_mode": {
    "name": "ipython",
    "version": 3
   },
   "file_extension": ".py",
   "mimetype": "text/x-python",
   "name": "python",
   "nbconvert_exporter": "python",
   "pygments_lexer": "ipython3",
   "version": "3.10.5"
  },
  "orig_nbformat": 4
 },
 "nbformat": 4,
 "nbformat_minor": 2
}
